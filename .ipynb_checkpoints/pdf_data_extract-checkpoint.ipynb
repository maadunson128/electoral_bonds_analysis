{
 "cells": [
  {
   "cell_type": "code",
   "execution_count": 17,
   "id": "344282cb-4332-4947-8df4-70ac33e6488e",
   "metadata": {},
   "outputs": [],
   "source": [
    "#importing libraries\n",
    "import tabula as tb\n",
    "import pandas as pd\n"
   ]
  },
  {
   "cell_type": "code",
   "execution_count": 21,
   "id": "a9c99be9-5fb7-48e6-950a-d071db4251d0",
   "metadata": {},
   "outputs": [],
   "source": [
    "#file path name of 2 PDF's\n",
    "file_1 = \"data/EB_Purchase_Details.pdf\"\n",
    "file_2 = \"data/EB_Redemption_Details.pdf\""
   ]
  },
  {
   "cell_type": "code",
   "execution_count": 22,
   "id": "baa1f017-7a9b-49a4-a578-ee3fda0e5ee8",
   "metadata": {},
   "outputs": [],
   "source": [
    "#converting the tabular pdf to dataframe\n",
    "df_1 = tb.read_pdf(file_1, pages=\"all\")\n",
    "df_2 = tb.read_pdf(file_2, pages=\"all\")\n",
    "\n",
    "#combining the list of dataframes into a single one\n",
    "combined_df_1 = pd.concat(df_1, ignore_index=\"False\")\n",
    "combined_df_2 = pd.concat(df_2, ignore_index=\"False\")\n"
   ]
  },
  {
   "cell_type": "code",
   "execution_count": 31,
   "id": "c2e898d2-3abe-48b2-a19d-a666e4c7db18",
   "metadata": {},
   "outputs": [
    {
     "name": "stdout",
     "output_type": "stream",
     "text": [
      "<class 'pandas.core.frame.DataFrame'>\n",
      "RangeIndex: 18871 entries, 0 to 18870\n",
      "Data columns (total 12 columns):\n",
      " #   Column                 Non-Null Count  Dtype \n",
      "---  ------                 --------------  ----- \n",
      " 0   Sr No.                 18871 non-null  int64 \n",
      " 1   Reference No  (URN)    18871 non-null  object\n",
      " 2   Journal Date           18871 non-null  object\n",
      "Purchase       18871 non-null  object\n",
      " 4   Date of Expiry         18871 non-null  object\n",
      " 5   Name of the Purchaser  18871 non-null  object\n",
      " 6   Prefix                 18871 non-null  object\n",
      "Number            18871 non-null  int64 \n",
      " 8   Denominations          18871 non-null  object\n",
      " 9   Issue Branch Code      18871 non-null  int64 \n",
      " 10  Issue Teller           18871 non-null  int64 \n",
      " 11  Status                 18871 non-null  object\n",
      "dtypes: int64(4), object(8)\n",
      "memory usage: 1.7+ MB\n",
      "\n",
      "<class 'pandas.core.frame.DataFrame'>\n",
      "RangeIndex: 20421 entries, 0 to 20420\n",
      "Data columns (total 9 columns):\n",
      " #   Column                          Non-Null Count  Dtype \n",
      "---  ------                          --------------  ----- \n",
      " 0   Sr No.                          20421 non-null  int64 \n",
      "Encashment              20421 non-null  object\n",
      " 2   Name of the Political Party     20421 non-null  object\n",
      "Political Party  20421 non-null  object\n",
      " 4   Prefix                          20421 non-null  object\n",
      "Number                     20421 non-null  int64 \n",
      " 6   Denominations                   20421 non-null  object\n",
      "Code                 20421 non-null  int64 \n",
      " 8   Pay Teller                      20421 non-null  int64 \n",
      "dtypes: int64(4), object(5)\n",
      "memory usage: 1.4+ MB\n"
     ]
    }
   ],
   "source": [
    "combined_df_1.info()\n",
    "print(\"\")\n",
    "combined_df_2.info()"
   ]
  },
  {
   "cell_type": "markdown",
   "id": "7dfc160a-5224-4164-b685-8e2b9a5ecfda",
   "metadata": {},
   "source": [
    "Looking the info about the dataframes, the entries are equal as they are cross verified."
   ]
  },
  {
   "cell_type": "code",
   "execution_count": 32,
   "id": "66501840-8604-4a79-8a49-9255c84492ea",
   "metadata": {},
   "outputs": [],
   "source": [
    "#converting the dataframes into csv files\n",
    "combined_df_1.to_csv(\"data/EB_Purchase_Details.csv\", index=False)\n",
    "combined_df_2.to_csv(\"data/EB_Redemption_Details.csv\", index=False)"
   ]
  },
  {
   "cell_type": "code",
   "execution_count": null,
   "id": "96dac1df-5567-4085-8eba-596695095ae3",
   "metadata": {},
   "outputs": [],
   "source": []
  }
 ],
 "metadata": {
  "kernelspec": {
   "display_name": "Python 3 (ipykernel)",
   "language": "python",
   "name": "python3"
  },
  "language_info": {
   "codemirror_mode": {
    "name": "ipython",
    "version": 3
   },
   "file_extension": ".py",
   "mimetype": "text/x-python",
   "name": "python",
   "nbconvert_exporter": "python",
   "pygments_lexer": "ipython3",
   "version": "3.12.3"
  }
 },
 "nbformat": 4,
 "nbformat_minor": 5
}
